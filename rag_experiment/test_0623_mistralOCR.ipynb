{
 "cells": [
  {
   "cell_type": "code",
   "execution_count": null,
   "id": "d96a3f80",
   "metadata": {},
   "outputs": [],
   "source": [
    "import os\n",
    "from mistralai import Mistral\n",
    "\n",
    "def extract_text_from_pdf_with_mistral(input_pdf_path, output_txt_path) :\n",
    "    try :\n",
    "        api_key = os.environ.get(\"MISTRAL_API_KEY\")\n",
    "        if not api_key :\n",
    "            raise ValueError(\"MISTRAL_API_KEY가 설정되지 않음\")\n",
    "        client = Mistral(api_key=api_key)\n",
    "\n",
    "        with open(input_pdf_path, \"rb\") as f :\n",
    "            file_content = f.read()\n",
    "\n",
    "        ocr_response = client.ocr.process(\n",
    "            model=\"mistral-ocr-latest\",\n",
    "            document={\"type\" : \"base64\", \"content\" : file_content}\n",
    "        )\n",
    "\n",
    "        extracted_text_with_pages = []\n",
    "        if ocr_response and ocr_response.pages :\n",
    "            pages_to_process = ocr_response.pages[:10]\n",
    "\n",
    "            for i, page in enumerate(pages_to_process) :\n",
    "                page_number = i + 1\n",
    "                extracted_text_with_pages.append(f\"### {page_number}페이지\")\n",
    "                if page.text :\n",
    "                    extracted_text_with_pages.append(page.text + \"\\n\\n\")\n",
    "                else :\n",
    "                    extracted_text_with_pages.append(\"<내용 없음>\\n\\n\")\n",
    "        with open(output_txt_path, 'w', encoding=\"utf-8\") as f :\n",
    "            f.writelines(extracted_text_with_pages)\n",
    "        print(f\"텍스트 추출 완료 : '{input_pdf_path}' -> '{output_txt_path}'\")\n",
    "\n",
    "    except Exception as e :\n",
    "        print(f\"오류 발생 : {e}\")\n",
    "\n",
    "input_pdf_file = \"./data/KEPIC/KEPIC_FULL.pdf\"\n",
    "output_txt_file = \"./data/KEPIC/KEPIC_Mistral_1_10.txt\"\n",
    "\n",
    "extract_text_from_pdf_with_mistral(input_pdf_file, output_txt_file)"
   ]
  },
  {
   "cell_type": "code",
   "execution_count": null,
   "id": "8285f6fe",
   "metadata": {},
   "outputs": [],
   "source": []
  }
 ],
 "metadata": {
  "language_info": {
   "name": "python"
  }
 },
 "nbformat": 4,
 "nbformat_minor": 5
}
