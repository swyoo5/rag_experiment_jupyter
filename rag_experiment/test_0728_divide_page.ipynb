{
 "cells": [
  {
   "cell_type": "code",
   "execution_count": 1,
   "id": "cc88fa53",
   "metadata": {},
   "outputs": [],
   "source": [
    "def get_equally_divided_integers(x, y, z):\n",
    "    if z <= 0:\n",
    "        return []\n",
    "    \n",
    "    interval = (y - x) / z\n",
    "    result = []\n",
    "    for i in range(z + 1):\n",
    "        result.append(round(x + i * interval))\n",
    "    return result"
   ]
  },
  {
   "cell_type": "code",
   "execution_count": 9,
   "id": "f291fa59",
   "metadata": {},
   "outputs": [
    {
     "data": {
      "text/plain": [
       "[816, 820, 824, 828, 832, 836, 840, 844, 848, 852]"
      ]
     },
     "execution_count": 9,
     "metadata": {},
     "output_type": "execute_result"
    }
   ],
   "source": [
    "x, y, z = 816, 852, 9\n",
    "get_equally_divided_integers(x, y, z)"
   ]
  },
  {
   "cell_type": "code",
   "execution_count": null,
   "id": "80cf870e",
   "metadata": {},
   "outputs": [],
   "source": []
  }
 ],
 "metadata": {
  "kernelspec": {
   "display_name": "sangwon",
   "language": "python",
   "name": "python3"
  },
  "language_info": {
   "codemirror_mode": {
    "name": "ipython",
    "version": 3
   },
   "file_extension": ".py",
   "mimetype": "text/x-python",
   "name": "python",
   "nbconvert_exporter": "python",
   "pygments_lexer": "ipython3",
   "version": "3.11.13"
  }
 },
 "nbformat": 4,
 "nbformat_minor": 5
}
